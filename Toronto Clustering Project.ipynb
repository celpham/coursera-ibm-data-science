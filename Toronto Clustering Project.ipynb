{
    "cells": [
        {
            "cell_type": "markdown",
            "metadata": {
                "collapsed": true
            },
            "source": "<html><center>\n    <h1>Segmenting and Clustering Neighborhoods in Toronto</h1>\n    <br>\n    by C\u00e9lestin PHAM\n    <br>\n</center></html>"
        },
        {
            "cell_type": "code",
            "execution_count": 57,
            "metadata": {},
            "outputs": [],
            "source": "# import dependencies\n\nimport pandas as pd\nimport numpy as np"
        },
        {
            "cell_type": "markdown",
            "metadata": {},
            "source": "## Question 1 - Retrieve Neighborhoods from Wikipedia"
        },
        {
            "cell_type": "code",
            "execution_count": 58,
            "metadata": {},
            "outputs": [],
            "source": "import requests\nfrom bs4 import BeautifulSoup\n\nsoup = BeautifulSoup(requests.get(\"https://en.wikipedia.org/wiki/List_of_postal_codes_of_Canada:_M\").text, 'html.parser')\n"
        },
        {
            "cell_type": "markdown",
            "metadata": {},
            "source": "I will go through al "
        },
        {
            "cell_type": "code",
            "execution_count": 65,
            "metadata": {},
            "outputs": [
                {
                    "data": {
                        "text/plain": "(103, 3)"
                    },
                    "execution_count": 65,
                    "metadata": {},
                    "output_type": "execute_result"
                }
            ],
            "source": "zip_codes = []\n\n# Look for all \"td\" tags in the wiki webpage\nfor tag in soup.find_all('td'):\n    \n    # Discard all \"Not assigned\" Borough, and not Postal Codes related \"td\" tags\n    if not(tag.find(\"p\")) or str(tag.i) == '<i>Not assigned</i>':\n        continue\n    \n    to_parse = tag.p.span.text.replace(\")\", \"\").split(\"(\")\n    \n    # Consider what is between brackets as the neighborhoods\n    if len(to_parse)== 1:\n        to_parse = to_parse[0].split(\"/\")\n\n    # Add to the zip codes list \n    zip_codes.append([\n        tag.p.b.text.strip(),\n        to_parse[0].strip(),\n        to_parse[1].replace(\" /\", \",\").strip()])\n    \nzip_codes = pd.DataFrame(data=zip_codes, columns=[\"PostalCode\",\"Borough\",\"Neighborhood\"])\nzip_codes.shape"
        },
        {
            "cell_type": "code",
            "execution_count": null,
            "metadata": {},
            "outputs": [],
            "source": ""
        },
        {
            "cell_type": "code",
            "execution_count": null,
            "metadata": {},
            "outputs": [],
            "source": ""
        },
        {
            "cell_type": "code",
            "execution_count": null,
            "metadata": {},
            "outputs": [],
            "source": ""
        },
        {
            "cell_type": "code",
            "execution_count": null,
            "metadata": {},
            "outputs": [],
            "source": ""
        },
        {
            "cell_type": "code",
            "execution_count": null,
            "metadata": {},
            "outputs": [],
            "source": ""
        },
        {
            "cell_type": "code",
            "execution_count": null,
            "metadata": {},
            "outputs": [],
            "source": ""
        },
        {
            "cell_type": "code",
            "execution_count": null,
            "metadata": {},
            "outputs": [],
            "source": ""
        }
    ],
    "metadata": {
        "kernelspec": {
            "display_name": "Python 3.6",
            "language": "python",
            "name": "python3"
        },
        "language_info": {
            "codemirror_mode": {
                "name": "ipython",
                "version": 3
            },
            "file_extension": ".py",
            "mimetype": "text/x-python",
            "name": "python",
            "nbconvert_exporter": "python",
            "pygments_lexer": "ipython3",
            "version": "3.6.9"
        }
    },
    "nbformat": 4,
    "nbformat_minor": 1
}