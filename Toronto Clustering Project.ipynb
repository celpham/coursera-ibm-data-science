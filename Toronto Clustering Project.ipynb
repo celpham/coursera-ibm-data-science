{
    "cells": [
        {
            "cell_type": "markdown",
            "metadata": {
                "collapsed": true
            },
            "source": "<html><center>\n    <h1>Segmenting and Clustering Neighborhoods in Toronto</h1>\n    <br>\n    by C\u00e9lestin PHAM\n    <br>\n</center></html>"
        },
        {
            "cell_type": "code",
            "execution_count": 57,
            "metadata": {},
            "outputs": [],
            "source": "# import dependencies\n\nimport pandas as pd\nimport numpy as np"
        },
        {
            "cell_type": "markdown",
            "metadata": {},
            "source": "## Part 1 - Retrieve Neighborhoods from Wikipedia"
        },
        {
            "cell_type": "code",
            "execution_count": 58,
            "metadata": {},
            "outputs": [],
            "source": "import requests\nfrom bs4 import BeautifulSoup\n\nsoup = BeautifulSoup(requests.get(\"https://en.wikipedia.org/wiki/List_of_postal_codes_of_Canada:_M\").text, 'html.parser')\n"
        },
        {
            "cell_type": "markdown",
            "metadata": {},
            "source": "1. I will go through al \"TD\" tags to extract postal codes information.\n2. Discarding the \"Not assigned\" in borough (designed by a i tag)\n3. And parsing the text to extract the borough, and the neighborhoods which is between brackets."
        },
        {
            "cell_type": "code",
            "execution_count": 66,
            "metadata": {},
            "outputs": [
                {
                    "data": {
                        "text/html": "<div>\n<style scoped>\n    .dataframe tbody tr th:only-of-type {\n        vertical-align: middle;\n    }\n\n    .dataframe tbody tr th {\n        vertical-align: top;\n    }\n\n    .dataframe thead th {\n        text-align: right;\n    }\n</style>\n<table border=\"1\" class=\"dataframe\">\n  <thead>\n    <tr style=\"text-align: right;\">\n      <th></th>\n      <th>PostalCode</th>\n      <th>Borough</th>\n      <th>Neighborhood</th>\n    </tr>\n  </thead>\n  <tbody>\n    <tr>\n      <th>0</th>\n      <td>M3A</td>\n      <td>North York</td>\n      <td>Parkwoods</td>\n    </tr>\n    <tr>\n      <th>1</th>\n      <td>M4A</td>\n      <td>North York</td>\n      <td>Victoria Village</td>\n    </tr>\n    <tr>\n      <th>2</th>\n      <td>M5A</td>\n      <td>Downtown Toronto</td>\n      <td>Regent Park, Harbourfront</td>\n    </tr>\n    <tr>\n      <th>3</th>\n      <td>M6A</td>\n      <td>North York</td>\n      <td>Lawrence Manor, Lawrence Heights</td>\n    </tr>\n    <tr>\n      <th>4</th>\n      <td>M7A</td>\n      <td>Queen's Park</td>\n      <td>Ontario Provincial Government</td>\n    </tr>\n  </tbody>\n</table>\n</div>",
                        "text/plain": "  PostalCode           Borough                      Neighborhood\n0        M3A        North York                         Parkwoods\n1        M4A        North York                  Victoria Village\n2        M5A  Downtown Toronto         Regent Park, Harbourfront\n3        M6A        North York  Lawrence Manor, Lawrence Heights\n4        M7A      Queen's Park     Ontario Provincial Government"
                    },
                    "execution_count": 66,
                    "metadata": {},
                    "output_type": "execute_result"
                }
            ],
            "source": "zip_codes = []\n\n# Look for all \"td\" tags in the wiki webpage\nfor tag in soup.find_all('td'):\n    \n    # Discard all \"Not assigned\" Borough, and not Postal Codes related \"td\" tags\n    if not(tag.find(\"p\")) or str(tag.i) == '<i>Not assigned</i>':\n        continue\n    \n    to_parse = tag.p.span.text.replace(\")\", \"\").split(\"(\")\n    \n    # Consider what is between brackets as the neighborhoods\n    if len(to_parse)== 1:\n        to_parse = to_parse[0].split(\"/\")\n\n    # Add to the zip codes list \n    zip_codes.append([\n        tag.p.b.text.strip(),\n        to_parse[0].strip(),\n        to_parse[1].replace(\" /\", \",\").strip()])\n    \nzip_codes = pd.DataFrame(data=zip_codes, columns=[\"PostalCode\",\"Borough\",\"Neighborhood\"])\nzip_codes.head()"
        },
        {
            "cell_type": "code",
            "execution_count": 67,
            "metadata": {},
            "outputs": [
                {
                    "data": {
                        "text/plain": "(103, 3)"
                    },
                    "execution_count": 67,
                    "metadata": {},
                    "output_type": "execute_result"
                }
            ],
            "source": "zip_codes.shape"
        },
        {
            "cell_type": "markdown",
            "metadata": {},
            "source": "# Part 2 - Get neighborhood latitude / longitude from Geocoder"
        },
        {
            "cell_type": "markdown",
            "metadata": {},
            "source": "### Geocoder could not find the latitude / longitude, so using the data directly from the csv file"
        },
        {
            "cell_type": "code",
            "execution_count": 107,
            "metadata": {},
            "outputs": [
                {
                    "data": {
                        "text/html": "<div>\n<style scoped>\n    .dataframe tbody tr th:only-of-type {\n        vertical-align: middle;\n    }\n\n    .dataframe tbody tr th {\n        vertical-align: top;\n    }\n\n    .dataframe thead th {\n        text-align: right;\n    }\n</style>\n<table border=\"1\" class=\"dataframe\">\n  <thead>\n    <tr style=\"text-align: right;\">\n      <th></th>\n      <th>Postal Code</th>\n      <th>Latitude</th>\n      <th>Longitude</th>\n    </tr>\n  </thead>\n  <tbody>\n    <tr>\n      <th>0</th>\n      <td>M1B</td>\n      <td>43.806686</td>\n      <td>-79.194353</td>\n    </tr>\n    <tr>\n      <th>1</th>\n      <td>M1C</td>\n      <td>43.784535</td>\n      <td>-79.160497</td>\n    </tr>\n    <tr>\n      <th>2</th>\n      <td>M1E</td>\n      <td>43.763573</td>\n      <td>-79.188711</td>\n    </tr>\n    <tr>\n      <th>3</th>\n      <td>M1G</td>\n      <td>43.770992</td>\n      <td>-79.216917</td>\n    </tr>\n    <tr>\n      <th>4</th>\n      <td>M1H</td>\n      <td>43.773136</td>\n      <td>-79.239476</td>\n    </tr>\n  </tbody>\n</table>\n</div>",
                        "text/plain": "  Postal Code   Latitude  Longitude\n0         M1B  43.806686 -79.194353\n1         M1C  43.784535 -79.160497\n2         M1E  43.763573 -79.188711\n3         M1G  43.770992 -79.216917\n4         M1H  43.773136 -79.239476"
                    },
                    "execution_count": 107,
                    "metadata": {},
                    "output_type": "execute_result"
                }
            ],
            "source": "!wget -q -O geospatial_data.csv \"http://cocl.us/Geospatial_data\"\ngeo_data = pd.read_csv(\"geospatial_data.csv\")\ngeo_data.head()"
        },
        {
            "cell_type": "code",
            "execution_count": 108,
            "metadata": {},
            "outputs": [
                {
                    "data": {
                        "text/html": "<div>\n<style scoped>\n    .dataframe tbody tr th:only-of-type {\n        vertical-align: middle;\n    }\n\n    .dataframe tbody tr th {\n        vertical-align: top;\n    }\n\n    .dataframe thead th {\n        text-align: right;\n    }\n</style>\n<table border=\"1\" class=\"dataframe\">\n  <thead>\n    <tr style=\"text-align: right;\">\n      <th></th>\n      <th>PostalCode</th>\n      <th>Borough</th>\n      <th>Neighborhood</th>\n      <th>Latitude</th>\n      <th>Longitude</th>\n    </tr>\n  </thead>\n  <tbody>\n    <tr>\n      <th>0</th>\n      <td>M3A</td>\n      <td>North York</td>\n      <td>Parkwoods</td>\n      <td>43.753259</td>\n      <td>-79.329656</td>\n    </tr>\n    <tr>\n      <th>1</th>\n      <td>M4A</td>\n      <td>North York</td>\n      <td>Victoria Village</td>\n      <td>43.725882</td>\n      <td>-79.315572</td>\n    </tr>\n    <tr>\n      <th>2</th>\n      <td>M5A</td>\n      <td>Downtown Toronto</td>\n      <td>Regent Park, Harbourfront</td>\n      <td>43.654260</td>\n      <td>-79.360636</td>\n    </tr>\n    <tr>\n      <th>3</th>\n      <td>M6A</td>\n      <td>North York</td>\n      <td>Lawrence Manor, Lawrence Heights</td>\n      <td>43.718518</td>\n      <td>-79.464763</td>\n    </tr>\n    <tr>\n      <th>4</th>\n      <td>M7A</td>\n      <td>Queen's Park</td>\n      <td>Ontario Provincial Government</td>\n      <td>43.662301</td>\n      <td>-79.389494</td>\n    </tr>\n  </tbody>\n</table>\n</div>",
                        "text/plain": "  PostalCode           Borough                      Neighborhood   Latitude  \\\n0        M3A        North York                         Parkwoods  43.753259   \n1        M4A        North York                  Victoria Village  43.725882   \n2        M5A  Downtown Toronto         Regent Park, Harbourfront  43.654260   \n3        M6A        North York  Lawrence Manor, Lawrence Heights  43.718518   \n4        M7A      Queen's Park     Ontario Provincial Government  43.662301   \n\n   Longitude  \n0 -79.329656  \n1 -79.315572  \n2 -79.360636  \n3 -79.464763  \n4 -79.389494  "
                    },
                    "execution_count": 108,
                    "metadata": {},
                    "output_type": "execute_result"
                }
            ],
            "source": "geo_data.rename(columns={'Postal Code': 'PostalCode'}, inplace=True)\ndf_zip_codes = pd.merge(zip_codes, geo_data, on=\"PostalCode\", how='left')\ndf_zip_codes.head()"
        },
        {
            "cell_type": "markdown",
            "metadata": {},
            "source": "## Part 3 - Explore and cluster the neighborhoods in Toronto"
        },
        {
            "cell_type": "markdown",
            "metadata": {},
            "source": "Use geocoder to retrieve Toronto Longitude / Latitude"
        },
        {
            "cell_type": "code",
            "execution_count": 115,
            "metadata": {},
            "outputs": [],
            "source": "# !conda install -c conda-forge geopy --yes \nfrom geopy.geocoders import Nominatim"
        },
        {
            "cell_type": "code",
            "execution_count": 112,
            "metadata": {},
            "outputs": [
                {
                    "name": "stdout",
                    "output_type": "stream",
                    "text": "The geograpical coordinate of the City of Toronto are 43.653963, -79.387207.\n"
                }
            ],
            "source": "location = Nominatim(user_agent= \"toronto_explorer\").geocode('Toronto, Canada')\ntoronto = (location.latitude, location.longitude)\nprint('The geograpical coordinate of the City of Toronto are {}, {}.'.format(toronto[0], toronto[1]))"
        },
        {
            "cell_type": "markdown",
            "metadata": {},
            "source": "### Install Folium to display map"
        },
        {
            "cell_type": "code",
            "execution_count": 114,
            "metadata": {},
            "outputs": [
                {
                    "name": "stdout",
                    "output_type": "stream",
                    "text": "Solving environment: done\n\n## Package Plan ##\n\n  environment location: /opt/conda/envs/Python36\n\n  added / updated specs: \n    - folium=0.5.0\n\n\nThe following packages will be downloaded:\n\n    package                    |            build\n    ---------------------------|-----------------\n    branca-0.4.0               |             py_0          26 KB  conda-forge\n    vincent-0.4.4              |             py_1          28 KB  conda-forge\n    folium-0.5.0               |             py_0          45 KB  conda-forge\n    altair-4.0.1               |             py_0         575 KB  conda-forge\n    ------------------------------------------------------------\n                                           Total:         673 KB\n\nThe following NEW packages will be INSTALLED:\n\n    altair:  4.0.1-py_0 conda-forge\n    branca:  0.4.0-py_0 conda-forge\n    folium:  0.5.0-py_0 conda-forge\n    vincent: 0.4.4-py_1 conda-forge\n\n\nDownloading and Extracting Packages\nbranca-0.4.0         | 26 KB     | ##################################### | 100% \nvincent-0.4.4        | 28 KB     | ##################################### | 100% \nfolium-0.5.0         | 45 KB     | ##################################### | 100% \naltair-4.0.1         | 575 KB    | ##################################### | 100% \nPreparing transaction: done\nVerifying transaction: done\nExecuting transaction: done\n"
                }
            ],
            "source": "!conda install -c conda-forge folium=0.5.0 --yes # uncomment this line if you haven't completed the Foursquare API lab\nimport folium # map rendering library"
        },
        {
            "cell_type": "code",
            "execution_count": null,
            "metadata": {},
            "outputs": [],
            "source": "# create map of New York using latitude and longitude values\nmap = folium.Map(location=[toronto[0], toronto[1]], zoom_start=10)\n\n# add markers to map\nfor lat, lng, borough, neighborhood in zip(df_zip_codes['Latitude'], df_zip_codes['Longitude'], df_zip_codes['Borough'], df_zip_codes['Neighborhood']):\n    label = '{}, {}'.format(neighborhood, borough)\n    label = folium.Popup(label, parse_html=True)\n    folium.CircleMarker(\n        [lat, lng],\n        radius=5,\n        popup=label,\n        color='blue',\n        fill=True,\n        fill_color='#3186cc',\n        fill_opacity=0.7,\n        parse_html=False).add_to(map)  \n    \nmap"
        }
    ],
    "metadata": {
        "kernelspec": {
            "display_name": "Python 3.6",
            "language": "python",
            "name": "python3"
        },
        "language_info": {
            "codemirror_mode": {
                "name": "ipython",
                "version": 3
            },
            "file_extension": ".py",
            "mimetype": "text/x-python",
            "name": "python",
            "nbconvert_exporter": "python",
            "pygments_lexer": "ipython3",
            "version": "3.6.9"
        }
    },
    "nbformat": 4,
    "nbformat_minor": 1
}