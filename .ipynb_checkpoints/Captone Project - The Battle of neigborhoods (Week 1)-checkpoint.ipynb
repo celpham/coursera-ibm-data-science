{
 "cells": [
  {
   "cell_type": "code",
   "execution_count": 4,
   "metadata": {},
   "outputs": [],
   "source": [
    "import foursquare"
   ]
  },
  {
   "cell_type": "code",
   "execution_count": 2,
   "metadata": {},
   "outputs": [
    {
     "data": {
      "text/plain": [
       "['API_ENDPOINT',\n",
       " 'API_VERSION',\n",
       " 'API_VERSION_DAY',\n",
       " 'API_VERSION_MONTH',\n",
       " 'API_VERSION_YEAR',\n",
       " 'AUTH_ENDPOINT',\n",
       " 'Deprecated',\n",
       " 'EndpointError',\n",
       " 'FailedGeocode',\n",
       " 'Foursquare',\n",
       " 'FoursquareException',\n",
       " 'GET_TIMEOUT',\n",
       " 'GeocodeTooBig',\n",
       " 'InvalidAuth',\n",
       " 'MAX_MULTI_REQUESTS',\n",
       " 'NETWORK_DEBUG',\n",
       " 'NUM_REQUEST_RETRIES',\n",
       " 'NotAuthorized',\n",
       " 'Other',\n",
       " 'POST_TIMEOUT',\n",
       " 'ParamError',\n",
       " 'RateLimitExceeded',\n",
       " 'ServerError',\n",
       " 'TOKEN_ENDPOINT',\n",
       " 'USER_AGENT',\n",
       " 'VERIFY_SSL',\n",
       " '__author__',\n",
       " '__builtins__',\n",
       " '__cached__',\n",
       " '__doc__',\n",
       " '__file__',\n",
       " '__loader__',\n",
       " '__name__',\n",
       " '__package__',\n",
       " '__path__',\n",
       " '__spec__',\n",
       " '__version__',\n",
       " '_as_utf8',\n",
       " '_foursquare_urlencode',\n",
       " '_get',\n",
       " '_log_and_raise_exception',\n",
       " '_post',\n",
       " '_process_response',\n",
       " '_raise_error_from_response',\n",
       " 'error_types',\n",
       " 'inspect',\n",
       " 'json',\n",
       " 'log',\n",
       " 'logging',\n",
       " 'math',\n",
       " 'parse',\n",
       " 'requests',\n",
       " 'six',\n",
       " 'sys',\n",
       " 'time',\n",
       " 'xrange']"
      ]
     },
     "execution_count": 2,
     "metadata": {},
     "output_type": "execute_result"
    }
   ],
   "source": [
    "dir(foursquare)"
   ]
  },
  {
   "cell_type": "code",
   "execution_count": null,
   "metadata": {},
   "outputs": [],
   "source": []
  }
 ],
 "metadata": {
  "kernelspec": {
   "display_name": "Python 3",
   "language": "python",
   "name": "python3"
  },
  "language_info": {
   "codemirror_mode": {
    "name": "ipython",
    "version": 3
   },
   "file_extension": ".py",
   "mimetype": "text/x-python",
   "name": "python",
   "nbconvert_exporter": "python",
   "pygments_lexer": "ipython3",
   "version": "3.7.6"
  }
 },
 "nbformat": 4,
 "nbformat_minor": 4
}
